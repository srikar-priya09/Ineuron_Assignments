{
 "cells": [
  {
   "cell_type": "markdown",
   "metadata": {},
   "source": [
    "1.1) Write a Python Program to implement your own myreduce() function which works exactly\n",
    "like Python's built-in function reduce()"
   ]
  },
  {
   "cell_type": "code",
   "execution_count": null,
   "metadata": {},
   "outputs": [],
   "source": [
    "def myreduce():\n",
    "    number_lst=[*range(2000,10000)]\n",
    "    sum_evennum=0\n",
    "    \n",
    "    for i in number_lst:\n",
    "        sum_evennum +=i\n",
    "        \n",
    "    return sum_evennum\n",
    "\n",
    "output_val=myreduce()\n",
    "print(output_val)"
   ]
  },
  {
   "cell_type": "markdown",
   "metadata": {},
   "source": [
    "1.2) Write a Python program to implement your own myfilter() function which works exactly\n",
    "like Python's built-in function filter()"
   ]
  },
  {
   "cell_type": "code",
   "execution_count": null,
   "metadata": {},
   "outputs": [],
   "source": [
    "def myfilter():\n",
    "    number_lst=[*range(2000,10000)]\n",
    "    evn_lst=[]\n",
    "    odd_lst=[]\n",
    "    \n",
    "    for i in number_lst:\n",
    "        if i%2==0:\n",
    "            evn_lst.append(i)\n",
    "        else:\n",
    "            odd_lst.append(i)\n",
    "           \n",
    "        \n",
    "    return evn_lst,odd_lst\n",
    "\n",
    "val=myfilter()\n",
    "print(val)"
   ]
  },
  {
   "cell_type": "markdown",
   "metadata": {},
   "source": [
    "2) Implement List comprehensions to produce the following lists.\n",
    "\n",
    "Write List comprehensions to produce the following Lists\n",
    "['A', 'C', 'A', 'D', 'G', 'I', ’L’, ‘ D’]\n",
    "['x', 'xx', 'xxx', 'xxxx', 'y', 'yy', 'yyy', 'yyyy', 'z', 'zz', 'zzz', 'zzzz']\n",
    "['x', 'y', 'z', 'xx', 'yy', 'zz', 'xxx', 'yyy', 'zzz', 'xxxx', 'yyyy', 'zzzz']\n",
    "[[2], [3], [4], [3], [4], [5], [4], [5], [6]] [[2, 3, 4, 5], [3, 4, 5, 6],\n",
    "[4, 5, 6, 7], [5, 6, 7, 8]]\n",
    "[(1, 1), (2, 1), (3, 1), (1, 2), (2, 2), (3, 2), (1, 3), (2, 3), (3, 3)]"
   ]
  },
  {
   "cell_type": "code",
   "execution_count": null,
   "metadata": {},
   "outputs": [],
   "source": [
    "input=\"ACADGILD\"\n",
    "output_list=[w for w in list(input)]\n",
    "print(output_list)\n",
    "\n",
    "input1=list('xyz')\n",
    "output=[x*n for x in input1 for n in range(1,5) ]\n",
    "print(output)\n",
    "\n",
    "input2=[x*n for n in range(1,5) for x in input1]\n",
    "print(input2)\n",
    "\n",
    "num=[2,3,4]\n",
    "num1=[[x+n] for x in num for n in range(0,3)]\n",
    "print(num1)\n",
    "\n",
    "num_1=[2,3,4,5]\n",
    "num2=[[x+n for n in range(0,4)] for x in num_1 ]\n",
    "print(num2)\n",
    "\n",
    "num_2=[1,2,3]\n",
    "num3= [(b,a) for a in num_2 for b in num_2]\n",
    "print(num3)"
   ]
  },
  {
   "cell_type": "code",
   "execution_count": null,
   "metadata": {},
   "outputs": [],
   "source": []
  }
 ],
 "metadata": {
  "kernelspec": {
   "display_name": "Python 3",
   "language": "python",
   "name": "python3"
  },
  "language_info": {
   "codemirror_mode": {
    "name": "ipython",
    "version": 3
   },
   "file_extension": ".py",
   "mimetype": "text/x-python",
   "name": "python",
   "nbconvert_exporter": "python",
   "pygments_lexer": "ipython3",
   "version": "3.8.5"
  }
 },
 "nbformat": 4,
 "nbformat_minor": 4
}
